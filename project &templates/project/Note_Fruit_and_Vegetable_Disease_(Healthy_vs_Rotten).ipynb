{
  "metadata": {
    "kernelspec": {
      "language": "python",
      "display_name": "Python 3",
      "name": "python3"
    },
    "language_info": {
      "name": "python",
      "version": "3.10.13",
      "mimetype": "text/x-python",
      "codemirror_mode": {
        "name": "ipython",
        "version": 3
      },
      "pygments_lexer": "ipython3",
      "nbconvert_exporter": "python",
      "file_extension": ".py"
    },
    "kaggle": {
      "accelerator": "none",
      "dataSources": [
        {
          "sourceId": 8463025,
          "sourceType": "datasetVersion",
          "datasetId": 5045111
        }
      ],
      "dockerImageVersionId": 30733,
      "isInternetEnabled": true,
      "language": "python",
      "sourceType": "notebook",
      "isGpuEnabled": false
    },
    "colab": {
      "provenance": []
    }
  },
  "nbformat_minor": 0,
  "nbformat": 4,
  "cells": [
    {
      "source": [
        "# IMPORTANT: RUN THIS CELL IN ORDER TO IMPORT YOUR KAGGLE DATA SOURCES,\n",
        "# THEN FEEL FREE TO DELETE THIS CELL.\n",
        "# NOTE: THIS NOTEBOOK ENVIRONMENT DIFFERS FROM KAGGLE'S PYTHON\n",
        "# ENVIRONMENT SO THERE MAY BE MISSING LIBRARIES USED BY YOUR\n",
        "# NOTEBOOK.\n",
        "import kagglehub\n",
        "muhammad0subhan_fruit_and_vegetable_disease_healthy_vs_rotten_path = kagglehub.dataset_download('muhammad0subhan/fruit-and-vegetable-disease-healthy-vs-rotten')\n",
        "\n",
        "print('Data source import complete.')\n"
      ],
      "metadata": {
        "id": "L6Zr8mSx_4JZ"
      },
      "cell_type": "code",
      "outputs": [],
      "execution_count": null
    },
    {
      "cell_type": "markdown",
      "source": [
        "# Main Library"
      ],
      "metadata": {
        "_uuid": "8f2839f25d086af736a60e9eeb907d3b93b6e0e5",
        "_cell_guid": "b1076dfc-b9ad-4769-8c92-a6c4dae69d19",
        "id": "36BhbcNk_4Jb"
      }
    },
    {
      "cell_type": "code",
      "source": [
        "# Reading Images\n",
        "import numpy as np\n",
        "import os, cv2\n",
        "import re, random\n",
        "import matplotlib.pyplot as plt\n",
        "import seaborn as sns\n",
        "\n",
        "# Data Processing\n",
        "from sklearn.model_selection import train_test_split\n",
        "from sklearn.utils import shuffle\n",
        "from keras.utils import to_categorical\n",
        "from keras.preprocessing.image import img_to_array\n",
        "\n",
        "# Building Model\n",
        "import tensorflow.keras as k\n",
        "from tensorflow.keras.layers import Conv2D, Dropout, MaxPooling2D, Flatten, Dense, Activation\n",
        "from tensorflow.keras.models import Sequential\n",
        "from tensorflow.keras.applications import EfficientNetB7, EfficientNetV2M, ResNet50, MobileNet\n",
        "from tensorflow.keras.preprocessing.image import ImageDataGenerator"
      ],
      "metadata": {
        "execution": {
          "iopub.status.busy": "2024-06-22T00:07:35.088022Z",
          "iopub.execute_input": "2024-06-22T00:07:35.088891Z",
          "iopub.status.idle": "2024-06-22T00:07:52.204112Z",
          "shell.execute_reply.started": "2024-06-22T00:07:35.088858Z",
          "shell.execute_reply": "2024-06-22T00:07:52.203288Z"
        },
        "trusted": true,
        "id": "Wzze_mmi_4Jd"
      },
      "execution_count": null,
      "outputs": []
    },
    {
      "cell_type": "markdown",
      "source": [
        "# Loading Images"
      ],
      "metadata": {
        "id": "LzszA7ly_4Jg"
      }
    },
    {
      "cell_type": "code",
      "source": [
        "path = r'/kaggle/input/fruit-and-vegetable-disease-healthy-vs-rotten/Fruit And Vegetable Diseases Dataset'\n",
        "columns = ['Apple__Healthy', 'Apple__Rotten', 'Banana__Healthy', 'Banana__Rotten',\n",
        "           'Bellpepper__Healthy', 'Bellpepper__Rotten']\n",
        "\n",
        "class_labels = ['Apple Healthy', 'Apple Rotten', 'Banana Healthy', 'Banana Rotten',\n",
        "           'Bellpepper Healthy', 'Bellpepper Rotten']\n",
        "\n",
        "\n",
        "\n",
        "images = []\n",
        "labels = []\n",
        "\n",
        "count = 0\n",
        "for folder in columns:\n",
        "    print('Loading --> ', folder)\n",
        "    for img in os.listdir(path + '/' + folder):\n",
        "        image = cv2.imread(path + '/' + folder + '/' + img)\n",
        "        image = cv2.resize(image, (128, 128))\n",
        "        images.append(image)\n",
        "        labels.append(count)\n",
        "    count += 1\n",
        "\n",
        "print(len(images)), print(len(labels))"
      ],
      "metadata": {
        "execution": {
          "iopub.status.busy": "2024-06-22T00:07:52.20563Z",
          "iopub.execute_input": "2024-06-22T00:07:52.206173Z",
          "iopub.status.idle": "2024-06-22T00:10:43.758425Z",
          "shell.execute_reply.started": "2024-06-22T00:07:52.206148Z",
          "shell.execute_reply": "2024-06-22T00:10:43.75754Z"
        },
        "trusted": true,
        "id": "wKTqM6h4_4Jh"
      },
      "execution_count": null,
      "outputs": []
    },
    {
      "cell_type": "code",
      "source": [
        "data = np.array(images).astype('float32')\n",
        "data = data / 255.0\n",
        "\n",
        "labels = np.array(labels)\n",
        "\n",
        "print(data.shape)"
      ],
      "metadata": {
        "execution": {
          "iopub.status.busy": "2024-06-22T00:10:43.759654Z",
          "iopub.execute_input": "2024-06-22T00:10:43.759994Z",
          "iopub.status.idle": "2024-06-22T00:10:45.099157Z",
          "shell.execute_reply.started": "2024-06-22T00:10:43.75997Z",
          "shell.execute_reply": "2024-06-22T00:10:45.098193Z"
        },
        "trusted": true,
        "id": "wTJgqN5N_4Jh"
      },
      "execution_count": null,
      "outputs": []
    },
    {
      "cell_type": "markdown",
      "source": [
        "# Prepare Labels & Shuffle Data"
      ],
      "metadata": {
        "id": "cQGMw6vK_4Ji"
      }
    },
    {
      "cell_type": "code",
      "source": [
        "data, labels = shuffle(data, labels)\n",
        "\n",
        "labels = to_categorical(labels, len(columns))\n",
        "labels[:5]"
      ],
      "metadata": {
        "execution": {
          "iopub.status.busy": "2024-06-22T00:10:45.101052Z",
          "iopub.execute_input": "2024-06-22T00:10:45.101329Z",
          "iopub.status.idle": "2024-06-22T00:10:45.741353Z",
          "shell.execute_reply.started": "2024-06-22T00:10:45.101305Z",
          "shell.execute_reply": "2024-06-22T00:10:45.740425Z"
        },
        "trusted": true,
        "id": "GC9xLjZG_4Jj"
      },
      "execution_count": null,
      "outputs": []
    },
    {
      "cell_type": "markdown",
      "source": [
        "# Show Random Images"
      ],
      "metadata": {
        "id": "ffHrplMK_4Jj"
      }
    },
    {
      "cell_type": "code",
      "source": [
        "plt.figure(figsize=(10, 10))\n",
        "\n",
        "for i,j in enumerate(list(np.random.randint(0, len(data), 36))):\n",
        "    plt.subplot(6, 6, i+1)\n",
        "    image = cv2.cvtColor(data[j], cv2.COLOR_BGR2RGB)\n",
        "    plt.imshow(image)\n",
        "    plt.axis(\"off\")\n",
        "    plt.title(class_labels[labels[j].argmax()])"
      ],
      "metadata": {
        "execution": {
          "iopub.status.busy": "2024-06-22T00:10:45.742409Z",
          "iopub.execute_input": "2024-06-22T00:10:45.742686Z",
          "iopub.status.idle": "2024-06-22T00:10:48.47367Z",
          "shell.execute_reply.started": "2024-06-22T00:10:45.742664Z",
          "shell.execute_reply": "2024-06-22T00:10:48.47264Z"
        },
        "trusted": true,
        "id": "dr8v1c3I_4Jk"
      },
      "execution_count": null,
      "outputs": []
    },
    {
      "cell_type": "markdown",
      "source": [
        "# Splitting Data"
      ],
      "metadata": {
        "id": "R7RtsY6L_4Jl"
      }
    },
    {
      "cell_type": "code",
      "source": [
        "x_train, x_test, y_train, y_test = train_test_split(data, labels, train_size=0.8, random_state=42)"
      ],
      "metadata": {
        "execution": {
          "iopub.status.busy": "2024-06-22T00:10:48.474838Z",
          "iopub.execute_input": "2024-06-22T00:10:48.475104Z",
          "iopub.status.idle": "2024-06-22T00:10:49.114711Z",
          "shell.execute_reply.started": "2024-06-22T00:10:48.475082Z",
          "shell.execute_reply": "2024-06-22T00:10:49.11392Z"
        },
        "trusted": true,
        "id": "oKtgdK4l_4Jl"
      },
      "execution_count": null,
      "outputs": []
    },
    {
      "cell_type": "markdown",
      "source": [
        "# Building Deep Learning Model From Scratch"
      ],
      "metadata": {
        "id": "dV6EL0h5_4Jm"
      }
    },
    {
      "cell_type": "code",
      "source": [
        "model = Sequential()\n",
        "\n",
        "model.add(Conv2D(filters=9, kernel_size=(5, 5), padding='same', input_shape=(128, 128, 3)))\n",
        "model.add(Activation('relu'))\n",
        "model.add(MaxPooling2D((3, 3)))\n",
        "\n",
        "model.add(Conv2D(filters=64, kernel_size=(5, 5), padding='same'))\n",
        "model.add(Activation('relu'))\n",
        "model.add(MaxPooling2D((2, 2)))\n",
        "\n",
        "model.add(Conv2D(filters=128, kernel_size=(4, 4), padding='same'))\n",
        "model.add(Activation('relu'))\n",
        "model.add(MaxPooling2D((2, 2)))\n",
        "\n",
        "model.add(Conv2D(filters=128, kernel_size=(3, 3), padding='same'))\n",
        "model.add(Activation('relu'))\n",
        "model.add(MaxPooling2D((2, 2)))\n",
        "\n",
        "model.add(Flatten())\n",
        "model.add(Dense(512, activation=\"relu\"))\n",
        "model.add(Dropout(0.5))\n",
        "\n",
        "model.add(Dense(64, activation=\"relu\"))\n",
        "\n",
        "model.add(Dense(6, activation=\"softmax\"))\n",
        "model.summary()"
      ],
      "metadata": {
        "execution": {
          "iopub.status.busy": "2024-06-22T00:10:49.115781Z",
          "iopub.execute_input": "2024-06-22T00:10:49.116041Z",
          "iopub.status.idle": "2024-06-22T00:10:50.284737Z",
          "shell.execute_reply.started": "2024-06-22T00:10:49.11602Z",
          "shell.execute_reply": "2024-06-22T00:10:50.283749Z"
        },
        "trusted": true,
        "id": "iBWL1blA_4Jn"
      },
      "execution_count": null,
      "outputs": []
    },
    {
      "cell_type": "code",
      "source": [
        "model.compile(optimizer='adam', loss=k.losses.CategoricalCrossentropy(), metrics=['accuracy'])\n",
        "history = model.fit(x_train, y_train, epochs=10, validation_data=(x_test, y_test), batch_size=128)"
      ],
      "metadata": {
        "execution": {
          "iopub.status.busy": "2024-06-22T00:10:50.286025Z",
          "iopub.execute_input": "2024-06-22T00:10:50.286307Z",
          "iopub.status.idle": "2024-06-22T00:11:45.344584Z",
          "shell.execute_reply.started": "2024-06-22T00:10:50.286283Z",
          "shell.execute_reply": "2024-06-22T00:11:45.343677Z"
        },
        "trusted": true,
        "id": "XyypXqYx_4Jn"
      },
      "execution_count": null,
      "outputs": []
    },
    {
      "cell_type": "code",
      "source": [
        "plt.plot(history.history[\"loss\"], label=\"Loss\")\n",
        "plt.plot(history.history[\"val_loss\"], label=\"Val_Loss\")\n",
        "\n",
        "plt.xlabel(\"Epochs\")\n",
        "plt.ylabel(\"Loss\")\n",
        "\n",
        "plt.title(\"Loss Vs Epochs\")\n",
        "\n",
        "plt.legend()\n",
        "plt.grid()"
      ],
      "metadata": {
        "execution": {
          "iopub.status.busy": "2024-06-22T00:11:45.345988Z",
          "iopub.execute_input": "2024-06-22T00:11:45.346289Z",
          "iopub.status.idle": "2024-06-22T00:11:45.653743Z",
          "shell.execute_reply.started": "2024-06-22T00:11:45.346264Z",
          "shell.execute_reply": "2024-06-22T00:11:45.652749Z"
        },
        "trusted": true,
        "id": "9PCYDAdr_4Jo"
      },
      "execution_count": null,
      "outputs": []
    },
    {
      "cell_type": "code",
      "source": [
        "plt.plot(history.history[\"accuracy\"], label=\"accuracy\")\n",
        "plt.plot(history.history[\"val_accuracy\"], label=\"val_accuracy\")\n",
        "\n",
        "plt.xlabel(\"Epochs\")\n",
        "plt.ylabel(\"Accuracy\")\n",
        "\n",
        "plt.title(\"Accuracy Vs Epochs\")\n",
        "\n",
        "plt.legend()\n",
        "plt.grid()"
      ],
      "metadata": {
        "execution": {
          "iopub.status.busy": "2024-06-22T00:11:45.658971Z",
          "iopub.execute_input": "2024-06-22T00:11:45.659258Z",
          "iopub.status.idle": "2024-06-22T00:11:45.971105Z",
          "shell.execute_reply.started": "2024-06-22T00:11:45.659225Z",
          "shell.execute_reply": "2024-06-22T00:11:45.970247Z"
        },
        "trusted": true,
        "id": "RVrrls43_4Jo"
      },
      "execution_count": null,
      "outputs": []
    },
    {
      "cell_type": "markdown",
      "source": [
        "# Building Pre-Training Model"
      ],
      "metadata": {
        "id": "dUaYXuvt_4Jp"
      }
    },
    {
      "cell_type": "markdown",
      "source": [
        "## EfficientNetV2M"
      ],
      "metadata": {
        "id": "K1gC6_R8_4Jp"
      }
    },
    {
      "cell_type": "code",
      "source": [
        "model_B7 = k.applications.efficientnet_v2.EfficientNetV2M(weights=\"imagenet\", include_top=False, input_shape=(128, 128, 3))"
      ],
      "metadata": {
        "execution": {
          "iopub.status.busy": "2024-06-22T00:11:45.97232Z",
          "iopub.execute_input": "2024-06-22T00:11:45.972663Z",
          "iopub.status.idle": "2024-06-22T00:11:51.340684Z",
          "shell.execute_reply.started": "2024-06-22T00:11:45.97263Z",
          "shell.execute_reply": "2024-06-22T00:11:51.339848Z"
        },
        "trusted": true,
        "id": "eefvEuqW_4Jp"
      },
      "execution_count": null,
      "outputs": []
    },
    {
      "cell_type": "code",
      "source": [
        "model = k.models.Sequential()\n",
        "model.add(model_B7)\n",
        "model.add(k.layers.Flatten())\n",
        "# model.add(k.layers.BatchNormalization())\n",
        "model.add(k.layers.Dense(512, activation=\"relu\"))\n",
        "model.add(k.layers.Dropout(0.5))\n",
        "# model.add(k.layers.BatchNormalization())\n",
        "model.add(k.layers.Dense(64, activation=\"relu\"))\n",
        "model.add(k.layers.Dense(6, activation=\"softmax\"))\n",
        "\n",
        "\n",
        "model.compile(optimizer=\"adam\", loss=k.losses.CategoricalCrossentropy(),\n",
        "              metrics=[\"accuracy\"])"
      ],
      "metadata": {
        "execution": {
          "iopub.status.busy": "2024-06-22T00:11:51.342527Z",
          "iopub.execute_input": "2024-06-22T00:11:51.342876Z",
          "iopub.status.idle": "2024-06-22T00:11:51.363381Z",
          "shell.execute_reply.started": "2024-06-22T00:11:51.342846Z",
          "shell.execute_reply": "2024-06-22T00:11:51.362511Z"
        },
        "trusted": true,
        "id": "LUlOfw27_4Jq"
      },
      "execution_count": null,
      "outputs": []
    },
    {
      "cell_type": "code",
      "source": [
        "history = model.fit(x_train, y_train, epochs=5, validation_data=(x_test, y_test), batch_size=128)"
      ],
      "metadata": {
        "execution": {
          "iopub.status.busy": "2024-06-22T00:12:30.292043Z",
          "iopub.execute_input": "2024-06-22T00:12:30.292889Z",
          "iopub.status.idle": "2024-06-22T00:26:51.273861Z",
          "shell.execute_reply.started": "2024-06-22T00:12:30.292856Z",
          "shell.execute_reply": "2024-06-22T00:26:51.272841Z"
        },
        "trusted": true,
        "id": "DlEwCk8V_4Jq"
      },
      "execution_count": null,
      "outputs": []
    },
    {
      "cell_type": "markdown",
      "source": [
        "## Mobile Net"
      ],
      "metadata": {
        "id": "StTHKCj9_4Jr"
      }
    },
    {
      "cell_type": "code",
      "source": [
        "model_mobilenet = MobileNet()\n",
        "model_1 = k.models.Sequential()\n",
        "for layer in model_mobilenet.layers[:-1]:\n",
        "    model_1.add(layer)\n",
        "for layers in model_1.layers:\n",
        "    layers.trainable = False\n",
        "\n",
        "\n",
        "model_1.add(Dense(6, activation=\"softmax\"))\n",
        "model_1.compile(optimizer=\"adam\", loss=\"categorical_crossentropy\", metrics=[\"accuracy\"])\n",
        "model_1.summary()"
      ],
      "metadata": {
        "execution": {
          "iopub.status.busy": "2024-06-22T00:26:51.276598Z",
          "iopub.execute_input": "2024-06-22T00:26:51.277261Z",
          "iopub.status.idle": "2024-06-22T00:26:54.532414Z",
          "shell.execute_reply.started": "2024-06-22T00:26:51.277227Z",
          "shell.execute_reply": "2024-06-22T00:26:54.531462Z"
        },
        "trusted": true,
        "id": "yZHcJdiM_4Jr"
      },
      "execution_count": null,
      "outputs": []
    },
    {
      "cell_type": "code",
      "source": [
        "model_1.fit(x_train, y_train, epochs=5, validation_data=(x_test, y_test))"
      ],
      "metadata": {
        "execution": {
          "iopub.status.busy": "2024-06-22T00:26:54.533516Z",
          "iopub.execute_input": "2024-06-22T00:26:54.533836Z",
          "iopub.status.idle": "2024-06-22T00:27:33.652088Z",
          "shell.execute_reply.started": "2024-06-22T00:26:54.533811Z",
          "shell.execute_reply": "2024-06-22T00:27:33.651126Z"
        },
        "trusted": true,
        "id": "cUFa0OjL_4Jr"
      },
      "execution_count": null,
      "outputs": []
    },
    {
      "cell_type": "code",
      "source": [],
      "metadata": {
        "id": "DIXvZwyN_4Jr"
      },
      "execution_count": null,
      "outputs": []
    }
  ]
}